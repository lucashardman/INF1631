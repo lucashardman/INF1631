{
 "cells": [
  {
   "cell_type": "code",
   "execution_count": 8,
   "metadata": {
    "collapsed": false
   },
   "outputs": [
    {
     "name": "stdout",
     "output_type": "stream",
     "text": [
      "Teorema 2: O número de números inteiros cujos dígitos pertencem ao conjunto {1, 2, ..., m} de K dígitos diferentes é dado pelo produto m*(m-1)*...*(m-k+1)\n",
      "\n",
      " Caso Base (k=1); Para formar um número inteiro de um dígito, basta escolher um número qualquer do conjunto. Sendo assim podemos formar m números.\n",
      "\n",
      " m: 3\n",
      " k: 1\n",
      "\n",
      "Passo Indutivo: Seja um número qualquer com k-1 dígitos, com N possiilidades distintas de formação. Inserimos um novo dígito k ao final dele para termos um número com k dígitos. Dos m dígitos disponíveis, k-1 já foram usados.\n",
      "\n",
      "Logo existem m-(k-1) = m-k-1 possibilidades para k e N*(m-k+1) possibilidades para nosso núero de k dígitos.\n",
      "[]\n"
     ]
    }
   ],
   "source": [
    "import sys\n",
    "import math\n",
    "import time\n",
    "\n",
    "def numbers (k ,m):\n",
    "    newList = []\n",
    "    \n",
    "    #Caso Base\n",
    "    if k == 1:\n",
    "        for i in range (m):\n",
    "            newList.append([i+1])\n",
    "        return newList\n",
    "    \n",
    "    previousList = numbers(k-1,m)\n",
    "    \n",
    "    #para cara numero de k - 1 digitos\n",
    "    for i in range (len(previousList)):\n",
    "        #para cada dígito entre 0 e m-1\n",
    "        for j in range (m):\n",
    "            #se j+1 ainda nao foi utilizado no numero corrente, adicionar ao final deste e salvar na lista\n",
    "            if(j+1) not in previousList[i]:\n",
    "                newNumber = list(previousList[i])\n",
    "                newNumber.append(j+1)\n",
    "                newList.append(newNumber)\n",
    "                \n",
    "    return newList\n",
    "\n",
    "\n",
    "\n",
    "print (\"Teorema 2: O número de números inteiros cujos dígitos pertencem ao conjunto {1, 2, ..., m} de K dígitos diferentes é dado pelo produto m*(m-1)*...*(m-k+1)\")\n",
    "\n",
    "print (\"\\n Caso Base (k=1); Para formar um número inteiro de um dígito, basta escolher um número qualquer do conjunto. Sendo assim podemos formar m números.\\n\")\n",
    "\n",
    "m = int(input(\" m: \"))\n",
    "k = int(input(\" k: \"))\n",
    "\n",
    "print (\"\\nPasso Indutivo: Seja um número qualquer com k-1 dígitos, com N possiilidades distintas de formação. Inserimos um novo dígito k ao final dele para termos um número com k dígitos. Dos m dígitos disponíveis, k-1 já foram usados.\\n\")\n",
    "print (\"Logo existem m-(k-1) = m-k-1 possibilidades para k e N*(m-k+1) possibilidades para nosso núero de k dígitos.\")\n",
    "\n",
    "resultado = numbers (m,k)\n",
    "print (resultado)"
   ]
  }
 ],
 "metadata": {
  "kernelspec": {
   "display_name": "Python 3",
   "language": "python",
   "name": "python3"
  },
  "language_info": {
   "codemirror_mode": {
    "name": "ipython",
    "version": 3
   },
   "file_extension": ".py",
   "mimetype": "text/x-python",
   "name": "python",
   "nbconvert_exporter": "python",
   "pygments_lexer": "ipython3",
   "version": "3.5.1"
  }
 },
 "nbformat": 4,
 "nbformat_minor": 0
}
